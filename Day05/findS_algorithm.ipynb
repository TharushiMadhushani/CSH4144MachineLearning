{
 "cells": [
  {
   "cell_type": "code",
   "execution_count": 11,
   "id": "e3505039",
   "metadata": {},
   "outputs": [
    {
     "name": "stdout",
     "output_type": "stream",
     "text": [
      "Dataset:\n",
      "       Time Weather Temparature Company Humidity    Wind Goes\n",
      "0  Morning   Sunny        Warm     Yes     Mild  Strong  Yes\n",
      "1  Evening   Rainy        Cold      No     Mild  Normal   No\n",
      "2  Morning   Sunny    Moderate     Yes   Normal  Normal  Yes\n",
      "3  Evening   Sunny        Cold     Yes     High  Strong  Yes\n",
      "\n",
      "\n",
      "Concepts (Attributes):\n",
      " [['Morning' 'Sunny' 'Warm' 'Yes' 'Mild' 'Strong']\n",
      " ['Evening' 'Rainy' 'Cold' 'No' 'Mild' 'Normal']\n",
      " ['Morning' 'Sunny' 'Moderate' 'Yes' 'Normal' 'Normal']\n",
      " ['Evening' 'Sunny' 'Cold' 'Yes' 'High' 'Strong']]\n",
      "\n",
      "\n",
      "Target:\n",
      " ['Yes' 'No' 'Yes' 'Yes']\n",
      "\n",
      "Final Hypothesis:\n",
      " ['?' 'Sunny' '?' 'Yes' '?' '?']\n"
     ]
    }
   ],
   "source": [
    "import pandas as pd\n",
    "import numpy as np\n",
    "\n",
    "# Load dataset\n",
    "data = pd.read_csv(\"FSdata.csv\")\n",
    "print(\"Dataset:\\n\", data)\n",
    "\n",
    "print(\"\\n\")\n",
    "\n",
    "# Extracting attributes and target\n",
    "concepts = np.array(data)[:, :-1]\n",
    "print(\"Concepts (Attributes):\\n\", concepts)\n",
    "\n",
    "print(\"\\n\")\n",
    "\n",
    "target = np.array(data)[:, -1]\n",
    "print(\"Target:\\n\", target)\n",
    "\n",
    "# Find-S algorithm\n",
    "def train(con, tar):\n",
    "    for i, val in enumerate(tar):\n",
    "        if val.lower() == 'yes':  # Case-insensitive match\n",
    "            specific_h = con[i].copy()\n",
    "            break\n",
    "\n",
    "    for i, val in enumerate(con):\n",
    "        if tar[i].lower() == 'yes':\n",
    "            for x in range(len(specific_h)):\n",
    "                if val[x] != specific_h[x]:\n",
    "                    specific_h[x] = '?'\n",
    "    return specific_h\n",
    "\n",
    "# Final hypothesis\n",
    "final_hypothesis = train(concepts, target)\n",
    "print(\"\\nFinal Hypothesis:\\n\", final_hypothesis)\n"
   ]
  },
  {
   "cell_type": "code",
   "execution_count": null,
   "id": "05ed2c15",
   "metadata": {},
   "outputs": [],
   "source": []
  },
  {
   "cell_type": "code",
   "execution_count": null,
   "id": "bc6e9d97",
   "metadata": {},
   "outputs": [],
   "source": []
  }
 ],
 "metadata": {
  "kernelspec": {
   "display_name": "Python 3 (ipykernel)",
   "language": "python",
   "name": "python3"
  },
  "language_info": {
   "codemirror_mode": {
    "name": "ipython",
    "version": 3
   },
   "file_extension": ".py",
   "mimetype": "text/x-python",
   "name": "python",
   "nbconvert_exporter": "python",
   "pygments_lexer": "ipython3",
   "version": "3.9.13"
  }
 },
 "nbformat": 4,
 "nbformat_minor": 5
}
