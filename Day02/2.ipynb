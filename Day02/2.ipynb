{
 "cells": [
  {
   "cell_type": "code",
   "execution_count": 1,
   "id": "09c6354d",
   "metadata": {},
   "outputs": [
    {
     "name": "stdout",
     "output_type": "stream",
     "text": [
      "Data:  [ 4 10 15  7  1 10  4 13  8 18  7  9 17 16  8]\n"
     ]
    }
   ],
   "source": [
    "#Random Variables\n",
    "\n",
    "import numpy as np\n",
    " \n",
    "# get data\n",
    "nums=np.random.randint(1,20,size=(1,15))[0]\n",
    "print(\"Data: \",nums)"
   ]
  },
  {
   "cell_type": "code",
   "execution_count": 16,
   "id": "85f18f4f",
   "metadata": {},
   "outputs": [
    {
     "name": "stdout",
     "output_type": "stream",
     "text": [
      "Mean: 9.8\n",
      "Meadian: 9.0\n",
      "Mode: ModeResult(mode=array([4]), count=array([2]))\n",
      "Standard Deviation: 4.915282290977803\n",
      "Variance: 24.160000000000004\n",
      "Skew: 0.11708314083975753\n",
      "Kurtosis: -0.9525240121047327\n"
     ]
    },
    {
     "name": "stderr",
     "output_type": "stream",
     "text": [
      "C:\\Users\\User\\AppData\\Local\\Temp\\ipykernel_13060\\4117007640.py:5: FutureWarning: Unlike other reduction functions (e.g. `skew`, `kurtosis`), the default behavior of `mode` typically preserves the axis it acts along. In SciPy 1.11.0, this behavior will change: the default value of `keepdims` will become False, the `axis` over which the statistic is taken will be eliminated, and the value None will no longer be accepted. Set `keepdims` to True or False to avoid this warning.\n",
      "  print('Mode:',sp.stats.mode(nums))\n"
     ]
    }
   ],
   "source": [
    "  #get descriptive states\n",
    "import scipy as sp\n",
    "print('Mean:',np.mean(nums))\n",
    "print('Meadian:',np.median(nums))\n",
    "print('Mode:',sp.stats.mode(nums))\n",
    "print('Standard Deviation:',np.std(nums))\n",
    "print('Variance:',np.var(nums))\n",
    "print('Skew:',sp.stats.skew(nums))\n",
    "print('Kurtosis:',sp.stats.kurtosis(nums))"
   ]
  },
  {
   "cell_type": "code",
   "execution_count": 18,
   "id": "0392ccac",
   "metadata": {},
   "outputs": [
    {
     "name": "stdout",
     "output_type": "stream",
     "text": [
      "1.9.1\n"
     ]
    }
   ],
   "source": [
    "import scipy\n",
    "print(scipy.__version__)"
   ]
  },
  {
   "cell_type": "code",
   "execution_count": null,
   "id": "e0872e78",
   "metadata": {},
   "outputs": [],
   "source": [
    "#ex01\n",
    "# write a code to genarate 3 random integers between 100 and 999 which is divisible by 5\n",
    "\n",
    "#ex02\n",
    "#write a code to genarate 100 random lottery and pick 2 lucky tickets from its as a winer.\n",
    "#the lottery number must be 10 digit later.all 100 ticket nubers unique\n",
    "\n",
    "\n",
    "#ex03\n",
    "#write a code generate a password \n",
    "# length must be 10 characters long\n",
    "#at least 2 upper case,1 digit,1 special character\n"
   ]
  }
 ],
 "metadata": {
  "kernelspec": {
   "display_name": "Python 3 (ipykernel)",
   "language": "python",
   "name": "python3"
  },
  "language_info": {
   "codemirror_mode": {
    "name": "ipython",
    "version": 3
   },
   "file_extension": ".py",
   "mimetype": "text/x-python",
   "name": "python",
   "nbconvert_exporter": "python",
   "pygments_lexer": "ipython3",
   "version": "3.9.13"
  }
 },
 "nbformat": 4,
 "nbformat_minor": 5
}
