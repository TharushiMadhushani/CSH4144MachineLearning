{
 "cells": [
  {
   "cell_type": "code",
   "execution_count": 1,
   "id": "c0eb8b54",
   "metadata": {},
   "outputs": [],
   "source": [
    "#Multiple linear regression Impementation using python\n",
    "\n",
    "import pandas as pd\n",
    "import numpy as np\n",
    "import matplotlib.pyplot as plt\n",
    "import seaborn as sns\n",
    "from scipy import stats"
   ]
  },
  {
   "cell_type": "code",
   "execution_count": 3,
   "id": "00b3fae7",
   "metadata": {},
   "outputs": [],
   "source": [
    "dataset=pd.read_csv(\"advertising.csv\")\n",
    "x=dataset[['TV','radio','newspaper']]\n",
    "y=dataset['sales']"
   ]
  },
  {
   "cell_type": "code",
   "execution_count": 4,
   "id": "b5ffc163",
   "metadata": {},
   "outputs": [],
   "source": [
    "from sklearn.model_selection import train_test_split\n",
    "x_train,x_test,y_train,y_test=train_test_split(x,y,test_size=0.3,random_state=100)"
   ]
  },
  {
   "cell_type": "code",
   "execution_count": 5,
   "id": "6e8b03ba",
   "metadata": {},
   "outputs": [
    {
     "data": {
      "text/plain": [
       "LinearRegression()"
      ]
     },
     "execution_count": 5,
     "metadata": {},
     "output_type": "execute_result"
    }
   ],
   "source": [
    "from sklearn.linear_model import LinearRegression\n",
    "mlr=LinearRegression()\n",
    "mlr.fit(x_train,y_train)"
   ]
  },
  {
   "cell_type": "code",
   "execution_count": 8,
   "id": "0674dc4b",
   "metadata": {},
   "outputs": [
    {
     "name": "stdout",
     "output_type": "stream",
     "text": [
      "Intercept:  2.652789668879496\n",
      "Coefficient: \n"
     ]
    },
    {
     "data": {
      "text/plain": [
       "[('TV', 0.045425596023997955),\n",
       " ('radio', 0.18975772766893617),\n",
       " ('newspaper', 0.00460307895311207)]"
      ]
     },
     "execution_count": 8,
     "metadata": {},
     "output_type": "execute_result"
    }
   ],
   "source": [
    "print(\"Intercept: \",mlr.intercept_)\n",
    "print(\"Coefficient: \")\n",
    "list(zip(x,mlr.coef_))"
   ]
  },
  {
   "cell_type": "code",
   "execution_count": 9,
   "id": "abe6c569",
   "metadata": {},
   "outputs": [
    {
     "name": "stdout",
     "output_type": "stream",
     "text": [
      "Prediction for the test set: [10.62160072 20.00625302 16.91850882 19.17040746 20.94974131 13.12284284\n",
      " 11.80740696 12.32019766 20.57806782 20.95662688 10.79096475 19.54868702\n",
      "  6.42403866 15.23133391  8.97226257  7.89897862 16.23599497 12.02636477\n",
      " 17.09702178 11.26080277 16.97826292  9.75655721 20.82389762 17.20916742\n",
      " 15.13816239 21.97290698 19.20181841 10.07501899 19.39017185 14.8673761\n",
      " 14.36798893  7.55604543  9.96742165 14.76342565  7.20995576 13.60003295\n",
      "  7.49088656 11.70865932 13.46091883 15.2229793  17.18088277 13.56738329\n",
      " 14.30942267 13.72909849 11.88559349  8.77039705 12.1244102  19.20252289\n",
      "  9.08376601  5.15367352 16.22852749 18.14111213 12.94835466 16.86274503\n",
      " 17.86462435 12.33930625  4.3575739  11.25904494 16.11560622 13.56602169]\n"
     ]
    }
   ],
   "source": [
    "#prediction of test set\n",
    "y_pred_mlr=mlr.predict(x_test)\n",
    "#predicted values\n",
    "print(\"Prediction for the test set: {}\".format(y_pred_mlr))"
   ]
  },
  {
   "cell_type": "code",
   "execution_count": 11,
   "id": "59d84a00",
   "metadata": {},
   "outputs": [
    {
     "data": {
      "text/html": [
       "<div>\n",
       "<style scoped>\n",
       "    .dataframe tbody tr th:only-of-type {\n",
       "        vertical-align: middle;\n",
       "    }\n",
       "\n",
       "    .dataframe tbody tr th {\n",
       "        vertical-align: top;\n",
       "    }\n",
       "\n",
       "    .dataframe thead th {\n",
       "        text-align: right;\n",
       "    }\n",
       "</style>\n",
       "<table border=\"1\" class=\"dataframe\">\n",
       "  <thead>\n",
       "    <tr style=\"text-align: right;\">\n",
       "      <th></th>\n",
       "      <th>Actual value</th>\n",
       "      <th>Predicted value</th>\n",
       "    </tr>\n",
       "  </thead>\n",
       "  <tbody>\n",
       "    <tr>\n",
       "      <th>126</th>\n",
       "      <td>6.6</td>\n",
       "      <td>10.621601</td>\n",
       "    </tr>\n",
       "    <tr>\n",
       "      <th>104</th>\n",
       "      <td>20.7</td>\n",
       "      <td>20.006253</td>\n",
       "    </tr>\n",
       "    <tr>\n",
       "      <th>99</th>\n",
       "      <td>17.2</td>\n",
       "      <td>16.918509</td>\n",
       "    </tr>\n",
       "    <tr>\n",
       "      <th>92</th>\n",
       "      <td>19.4</td>\n",
       "      <td>19.170407</td>\n",
       "    </tr>\n",
       "    <tr>\n",
       "      <th>111</th>\n",
       "      <td>21.8</td>\n",
       "      <td>20.949741</td>\n",
       "    </tr>\n",
       "  </tbody>\n",
       "</table>\n",
       "</div>"
      ],
      "text/plain": [
       "     Actual value  Predicted value\n",
       "126           6.6        10.621601\n",
       "104          20.7        20.006253\n",
       "99           17.2        16.918509\n",
       "92           19.4        19.170407\n",
       "111          21.8        20.949741"
      ]
     },
     "execution_count": 11,
     "metadata": {},
     "output_type": "execute_result"
    }
   ],
   "source": [
    "mlr_diff=pd.DataFrame({'Actual value':y_test,'Predicted value':y_pred_mlr})\n",
    "mlr_diff.head()"
   ]
  },
  {
   "cell_type": "code",
   "execution_count": 18,
   "id": "4a2ded67",
   "metadata": {},
   "outputs": [
    {
     "data": {
      "image/png": "[encoded data removed]",
      "text/plain": [
       "<Figure size 640x480 with 1 Axes>"
      ]
     },
     "metadata": {},
     "output_type": "display_data"
    }
   ],
   "source": [
    "import matplotlib.pyplot as plt\n",
    "\n",
    "# Assuming y_test and y_pred are 1D\n",
    "plt.scatter(y_test, y_pred_mlr)\n",
    "plt.plot([y_test.min(), y_test.max()], [y_test.min(), y_test.max()],'red')  # ideal line\n",
    "plt.show()\n"
   ]
  },
  {
   "cell_type": "code",
   "execution_count": 19,
   "id": "f469539e",
   "metadata": {},
   "outputs": [
    {
     "name": "stdout",
     "output_type": "stream",
     "text": [
      "R squared:89.59\n",
      "Mean Absolute Error: 1.0638483124072018\n",
      "Mean Square Error: 1.8506819941636945\n",
      "Root Mean Square Error: 1.3603977338130546\n"
     ]
    }
   ],
   "source": [
    "#model evaluation\n",
    "from sklearn import metrics\n",
    "meanAbErr=metrics.mean_absolute_error(y_test,y_pred_mlr)\n",
    "meanSqErr=metrics.mean_squared_error(y_test,y_pred_mlr)\n",
    "rootMeanSqErr=np.sqrt(metrics.mean_squared_error(y_test,y_pred_mlr))\n",
    "print('R squared:{:.2f}'.format(mlr.score(x,y)*100))\n",
    "print('Mean Absolute Error:',meanAbErr)\n",
    "print('Mean Square Error:',meanSqErr)\n",
    "print('Root Mean Square Error:',rootMeanSqErr)"
   ]
  },
  {
   "cell_type": "code",
   "execution_count": null,
   "id": "3229dfb0",
   "metadata": {},
   "outputs": [],
   "source": []
  }
 ],
 "metadata": {
  "kernelspec": {
   "display_name": "Python 3 (ipykernel)",
   "language": "python",
   "name": "python3"
  },
  "language_info": {
   "codemirror_mode": {
    "name": "ipython",
    "version": 3
   },
   "file_extension": ".py",
   "mimetype": "text/x-python",
   "name": "python",
   "nbconvert_exporter": "python",
   "pygments_lexer": "ipython3",
   "version": "3.9.13"
  }
 },
 "nbformat": 4,
 "nbformat_minor": 5
}
