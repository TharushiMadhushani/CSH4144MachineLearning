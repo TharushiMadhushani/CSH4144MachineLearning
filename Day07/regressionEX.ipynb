{
 "cells": [
  {
   "cell_type": "code",
   "execution_count": 29,
   "id": "8bc11033",
   "metadata": {},
   "outputs": [],
   "source": [
    "#linear regression implementation in python\n",
    "\n",
    "import pandas as pd\n",
    "import numpy as np\n",
    "import matplotlib.pyplot as plt\n",
    "import seaborn as sns\n",
    "from scipy import stats"
   ]
  },
  {
   "cell_type": "code",
   "execution_count": 30,
   "id": "6a687b9f",
   "metadata": {},
   "outputs": [],
   "source": [
    "dataset=pd.read_csv(\"advertising.csv\")"
   ]
  },
  {
   "cell_type": "code",
   "execution_count": 31,
   "id": "43256c83",
   "metadata": {},
   "outputs": [
    {
     "data": {
      "text/html": [
       "<div>\n",
       "<style scoped>\n",
       "    .dataframe tbody tr th:only-of-type {\n",
       "        vertical-align: middle;\n",
       "    }\n",
       "\n",
       "    .dataframe tbody tr th {\n",
       "        vertical-align: top;\n",
       "    }\n",
       "\n",
       "    .dataframe thead th {\n",
       "        text-align: right;\n",
       "    }\n",
       "</style>\n",
       "<table border=\"1\" class=\"dataframe\">\n",
       "  <thead>\n",
       "    <tr style=\"text-align: right;\">\n",
       "      <th></th>\n",
       "      <th>Unnamed: 0</th>\n",
       "      <th>TV</th>\n",
       "      <th>sales</th>\n",
       "    </tr>\n",
       "  </thead>\n",
       "  <tbody>\n",
       "    <tr>\n",
       "      <th>0</th>\n",
       "      <td>1</td>\n",
       "      <td>230.1</td>\n",
       "      <td>22.1</td>\n",
       "    </tr>\n",
       "    <tr>\n",
       "      <th>1</th>\n",
       "      <td>2</td>\n",
       "      <td>44.5</td>\n",
       "      <td>10.4</td>\n",
       "    </tr>\n",
       "    <tr>\n",
       "      <th>2</th>\n",
       "      <td>3</td>\n",
       "      <td>17.2</td>\n",
       "      <td>9.3</td>\n",
       "    </tr>\n",
       "    <tr>\n",
       "      <th>3</th>\n",
       "      <td>4</td>\n",
       "      <td>151.5</td>\n",
       "      <td>18.5</td>\n",
       "    </tr>\n",
       "    <tr>\n",
       "      <th>4</th>\n",
       "      <td>5</td>\n",
       "      <td>180.8</td>\n",
       "      <td>12.9</td>\n",
       "    </tr>\n",
       "  </tbody>\n",
       "</table>\n",
       "</div>"
      ],
      "text/plain": [
       "   Unnamed: 0     TV  sales\n",
       "0           1  230.1   22.1\n",
       "1           2   44.5   10.4\n",
       "2           3   17.2    9.3\n",
       "3           4  151.5   18.5\n",
       "4           5  180.8   12.9"
      ]
     },
     "execution_count": 31,
     "metadata": {},
     "output_type": "execute_result"
    }
   ],
   "source": [
    "dataset.drop(columns=['radio','newspaper'],inplace=True)\n",
    "dataset.head()"
   ]
  },
  {
   "cell_type": "code",
   "execution_count": 39,
   "id": "77684e84",
   "metadata": {},
   "outputs": [],
   "source": [
    "#setting the value for independent x and dependent y variable\n",
    "\n",
    "x=dataset[['TV']]\n",
    "y=dataset['sales']"
   ]
  },
  {
   "cell_type": "code",
   "execution_count": 40,
   "id": "d9d97f0c",
   "metadata": {},
   "outputs": [],
   "source": [
    "#splitting the dataset\n",
    "from sklearn.model_selection import train_test_split\n",
    "x_train,x_test,y_train,y_test=train_test_split(x,y,test_size=0.3,random_state=100)\n"
   ]
  },
  {
   "cell_type": "code",
   "execution_count": 41,
   "id": "351e0baa",
   "metadata": {},
   "outputs": [
    {
     "data": {
      "text/plain": [
       "LinearRegression()"
      ]
     },
     "execution_count": 41,
     "metadata": {},
     "output_type": "execute_result"
    }
   ],
   "source": [
    "#fitting the linear regression model\n",
    "from sklearn.linear_model import LinearRegression\n",
    "slr=LinearRegression()\n",
    "slr.fit(x_train,y_train)"
   ]
  },
  {
   "cell_type": "code",
   "execution_count": 42,
   "id": "29729f9f",
   "metadata": {},
   "outputs": [
    {
     "name": "stdout",
     "output_type": "stream",
     "text": [
      "Intercept:  6.989665857411679\n",
      "Coefficient:  [0.04649736]\n"
     ]
    }
   ],
   "source": [
    "#intercept and coefficient\n",
    "print(\"Intercept: \",slr.intercept_)\n",
    "print(\"Coefficient: \",slr.coef_)"
   ]
  },
  {
   "cell_type": "code",
   "execution_count": 43,
   "id": "50efc147",
   "metadata": {},
   "outputs": [
    {
     "name": "stdout",
     "output_type": "stream",
     "text": [
      "Prediction for the test set: [ 7.35234526 18.06533671 13.27610876 17.11214086 18.22807747 16.60531965\n",
      " 13.4620982  16.17754395 17.05169429 17.07029323 12.4391563  17.66080969\n",
      "  9.60281742 15.72186983 11.04423554 11.36971705 13.95032046 14.90351632\n",
      " 14.59198401 12.23921766 16.97264878 13.00642408 16.07524976 15.21969836\n",
      " 15.58702749 17.23303399 17.20978531 10.49091697 15.58702749 12.71349072\n",
      " 10.1700852  10.19798361 12.61584627 15.74976825  9.31453379 12.59259759\n",
      " 11.50920913 14.81982107 17.33067844 15.97295557 17.00519693 15.15925179\n",
      " 14.63848137 17.14933874 12.57864838 11.16047894  7.77547122 18.55820871\n",
      " 10.27237939  8.76586496 16.405381   14.95466341 10.4816175  13.08546959\n",
      " 16.78665935  9.05879832  7.78942043  8.17999824 16.17754395 10.9744895 ]\n"
     ]
    }
   ],
   "source": [
    "#prediction of test set\n",
    "y_pred_slr=slr.predict(x_test)\n",
    "#predicted values\n",
    "print(\"Prediction for the test set: {}\".format(y_pred_slr))"
   ]
  },
  {
   "cell_type": "code",
   "execution_count": 44,
   "id": "2aeacf9f",
   "metadata": {
    "scrolled": true
   },
   "outputs": [
    {
     "data": {
      "text/html": [
       "<div>\n",
       "<style scoped>\n",
       "    .dataframe tbody tr th:only-of-type {\n",
       "        vertical-align: middle;\n",
       "    }\n",
       "\n",
       "    .dataframe tbody tr th {\n",
       "        vertical-align: top;\n",
       "    }\n",
       "\n",
       "    .dataframe thead th {\n",
       "        text-align: right;\n",
       "    }\n",
       "</style>\n",
       "<table border=\"1\" class=\"dataframe\">\n",
       "  <thead>\n",
       "    <tr style=\"text-align: right;\">\n",
       "      <th></th>\n",
       "      <th>Actual value</th>\n",
       "      <th>Predicted value</th>\n",
       "    </tr>\n",
       "  </thead>\n",
       "  <tbody>\n",
       "    <tr>\n",
       "      <th>126</th>\n",
       "      <td>6.6</td>\n",
       "      <td>7.352345</td>\n",
       "    </tr>\n",
       "    <tr>\n",
       "      <th>104</th>\n",
       "      <td>20.7</td>\n",
       "      <td>18.065337</td>\n",
       "    </tr>\n",
       "    <tr>\n",
       "      <th>99</th>\n",
       "      <td>17.2</td>\n",
       "      <td>13.276109</td>\n",
       "    </tr>\n",
       "    <tr>\n",
       "      <th>92</th>\n",
       "      <td>19.4</td>\n",
       "      <td>17.112141</td>\n",
       "    </tr>\n",
       "    <tr>\n",
       "      <th>111</th>\n",
       "      <td>21.8</td>\n",
       "      <td>18.228077</td>\n",
       "    </tr>\n",
       "  </tbody>\n",
       "</table>\n",
       "</div>"
      ],
      "text/plain": [
       "     Actual value  Predicted value\n",
       "126           6.6         7.352345\n",
       "104          20.7        18.065337\n",
       "99           17.2        13.276109\n",
       "92           19.4        17.112141\n",
       "111          21.8        18.228077"
      ]
     },
     "execution_count": 44,
     "metadata": {},
     "output_type": "execute_result"
    }
   ],
   "source": [
    "slr_diff=pd.DataFrame({'Actual value':y_test,'Predicted value':y_pred_slr})\n",
    "slr_diff.head()"
   ]
  },
  {
   "cell_type": "code",
   "execution_count": null,
   "id": "10d16e43",
   "metadata": {},
   "outputs": [
    {
     "data": {
      "image/png": "[encoded data removed]",
      "text/plain": [
       "<Figure size 640x480 with 1 Axes>"
      ]
     },
     "metadata": {},
     "output_type": "display_data"
    }
   ],
   "source": [
    "#line of the best fit\n",
    "\n",
    "plt.scatter(x_test, y_test) # actual values\n",
    "plt.plot(x_test, y_pred_slr,'red') # predicted line\n",
    "plt.show()"
   ]
  },
  {
   "cell_type": "code",
   "execution_count": 46,
   "id": "56a9b771",
   "metadata": {},
   "outputs": [
    {
     "name": "stdout",
     "output_type": "stream",
     "text": [
      "R squared:61.02\n",
      "Mean Absolute Error: 2.1619849326720724\n",
      "Mean Square Error: 7.97579853285485\n",
      "Root Mean Square Error: 2.8241456288327007\n"
     ]
    }
   ],
   "source": [
    "#model evaluation\n",
    "from sklearn import metrics\n",
    "meanAbErr=metrics.mean_absolute_error(y_test,y_pred_slr)\n",
    "meanSqErr=metrics.mean_squared_error(y_test,y_pred_slr)\n",
    "rootMeanSqErr=np.sqrt(metrics.mean_squared_error(y_test,y_pred_slr))\n",
    "print('R squared:{:.2f}'.format(slr.score(x,y)*100))\n",
    "print('Mean Absolute Error:',meanAbErr)\n",
    "print('Mean Square Error:',meanSqErr)\n",
    "print('Root Mean Square Error:',rootMeanSqErr)"
   ]
  },
  {
   "cell_type": "code",
   "execution_count": null,
   "id": "53716de4",
   "metadata": {},
   "outputs": [],
   "source": [
    "\n",
    "\n"
   ]
  }
 ],
 "metadata": {
  "kernelspec": {
   "display_name": "Python 3 (ipykernel)",
   "language": "python",
   "name": "python3"
  },
  "language_info": {
   "codemirror_mode": {
    "name": "ipython",
    "version": 3
   },
   "file_extension": ".py",
   "mimetype": "text/x-python",
   "name": "python",
   "nbconvert_exporter": "python",
   "pygments_lexer": "ipython3",
   "version": "3.9.13"
  }
 },
 "nbformat": 4,
 "nbformat_minor": 5
}
